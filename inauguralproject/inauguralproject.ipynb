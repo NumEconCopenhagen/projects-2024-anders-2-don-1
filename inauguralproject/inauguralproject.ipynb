{
 "cells": [
  {
   "cell_type": "markdown",
   "metadata": {},
   "source": [
    "# Inaugural Project"
   ]
  },
  {
   "attachments": {},
   "cell_type": "markdown",
   "metadata": {},
   "source": [
    "> **Note the following:** \n",
    "> 1. This is an example of how to structure your **inaugural project**.\n",
    "> 1. Remember the general advice on structuring and commenting your code\n",
    "> 1. The `inauguralproject.py` file includes a function which can be used multiple times in this notebook."
   ]
  },
  {
   "cell_type": "markdown",
   "metadata": {},
   "source": [
    "Imports and set magics:"
   ]
  },
  {
   "cell_type": "code",
   "execution_count": 28,
   "metadata": {},
   "outputs": [
    {
     "name": "stdout",
     "output_type": "stream",
     "text": [
      "The autoreload extension is already loaded. To reload it, use:\n",
      "  %reload_ext autoreload\n"
     ]
    }
   ],
   "source": [
    "import numpy as np\n",
    "\n",
    "# autoreload modules when code is run. Otherwise, python will not see recent changes. \n",
    "%load_ext autoreload\n",
    "%autoreload 2\n",
    "\n",
    "# Import your own code \n",
    "from inauguralproject import ExchangeEconomyClass\n",
    "import matplotlib.pyplot as plt\n",
    "\n",
    "maincolor = 'olive'"
   ]
  },
  {
   "cell_type": "markdown",
   "metadata": {},
   "source": [
    "# Question 1"
   ]
  },
  {
   "cell_type": "markdown",
   "metadata": {},
   "source": [
    "**Explain how you solve the model**"
   ]
  },
  {
   "cell_type": "code",
   "execution_count": 39,
   "metadata": {},
   "outputs": [
    {
     "data": {
      "image/png": "[encoded data removed]",
      "text/plain": [
       "<Figure size 600x600 with 3 Axes>"
      ]
     },
     "metadata": {},
     "output_type": "display_data"
    }
   ],
   "source": [
    "\n",
    "# Create an instance of the ExchangeEconomyClass\n",
    "economy = ExchangeEconomyClass()\n",
    "\n",
    "# Calculate utilities at initial endowments\n",
    "par = economy.par\n",
    "initial_utility_A = economy.utility_A(par.w1A, par.w2A)\n",
    "initial_utility_B = economy.utility_B(1 - par.w1A, 1 - par.w2A)\n",
    "\n",
    "# a. total endowment\n",
    "w1bar = 1.0\n",
    "w2bar = 1.0\n",
    "\n",
    "# Define the number of points in the grid for each good (as specified, N=75)\n",
    "N = 75\n",
    "x1A_values = np.linspace(0, w1bar, N)\n",
    "x2A_values = np.linspace(0, w2bar, N)\n",
    "\n",
    "# Prepare to store feasible allocations\n",
    "feasible_x1A = []\n",
    "feasible_x2A = []\n",
    "\n",
    "# Check each allocation in the grid\n",
    "for x1A in x1A_values:\n",
    "    for x2A in x2A_values:\n",
    "        # Calculate the utility for both consumers at this allocation\n",
    "        utility_A = economy.utility_A(x1A, x2A)\n",
    "        utility_B = economy.utility_B(w1bar - x1A, w2bar - x2A)\n",
    "\n",
    "        # Check if both utilities are at least as high as with initial endowments\n",
    "        if utility_A >= initial_utility_A and utility_B >= initial_utility_B:\n",
    "            feasible_x1A.append(x1A)\n",
    "            feasible_x2A.append(x2A)\n",
    "\n",
    "# Set up the figure and axes as provided in your code\n",
    "fig = plt.figure(frameon=False, figsize=(6, 6), dpi=100)\n",
    "ax_A = fig.add_subplot(1, 1, 1)\n",
    "\n",
    "ax_A.set_xlabel(\"$x_1^A$\")\n",
    "ax_A.set_ylabel(\"$x_2^A$\")\n",
    "\n",
    "temp = ax_A.twinx()\n",
    "temp.set_ylabel(\"$x_2^B$\")\n",
    "ax_B = temp.twiny()\n",
    "ax_B.set_xlabel(\"$x_1^B$\")\n",
    "ax_B.invert_xaxis()\n",
    "ax_B.invert_yaxis()\n",
    "\n",
    "# Scatter plot for A's endowment point\n",
    "ax_A.scatter(par.w1A, par.w2A, marker='s', color='black', label='Endowment A,B')\n",
    "#ax_B.scatter(1-par.w1A, 1-par.w2A, marker='s', color='brown', label='Endowment B')  # Endowment B is the mirror of A's\n",
    "\n",
    "# Plot the feasible allocations\n",
    "ax_A.scatter(feasible_x1A, feasible_x2A, color=maincolor, s=10, label='Feasible Allocations')\n",
    "\n",
    "# Draw the box representing the limits of the total endowment\n",
    "ax_A.plot([0, w1bar], [0, 0], lw=2, color=maincolor)\n",
    "ax_A.plot([0, w1bar], [w2bar, w2bar], lw=2, color=maincolor)\n",
    "ax_A.plot([0, 0], [0, w2bar], lw=2, color=maincolor)\n",
    "ax_A.plot([w1bar, w1bar], [0, w2bar], lw=2, color=maincolor)\n",
    "\n",
    "ax_A.set_xlim([-0.1, w1bar + 0.1])\n",
    "ax_A.set_ylim([-0.1, w2bar + 0.1])\n",
    "ax_B.set_xlim([w1bar + 0.1, -0.1])\n",
    "ax_B.set_ylim([w2bar + 0.1, -0.1])\n",
    "\n",
    "# Legend\n",
    "ax_A.legend(frameon=True, loc='upper right', bbox_to_anchor=(1.6, 1.0))\n",
    "\n",
    "# Show the plot\n",
    "plt.show()\n"
   ]
  },
  {
   "cell_type": "markdown",
   "metadata": {},
   "source": [
    "# Question 2"
   ]
  },
  {
   "cell_type": "markdown",
   "metadata": {},
   "source": [
    "Explain your code and procedure"
   ]
  },
  {
   "cell_type": "code",
   "execution_count": 3,
   "metadata": {},
   "outputs": [],
   "source": [
    "# code"
   ]
  },
  {
   "cell_type": "markdown",
   "metadata": {},
   "source": [
    "# Question 3"
   ]
  },
  {
   "cell_type": "markdown",
   "metadata": {},
   "source": [
    "Explain your code and procedure"
   ]
  },
  {
   "cell_type": "code",
   "execution_count": 4,
   "metadata": {},
   "outputs": [],
   "source": [
    "# code"
   ]
  },
  {
   "cell_type": "markdown",
   "metadata": {},
   "source": [
    "ADD CONCISE CONLUSION."
   ]
  }
 ],
 "metadata": {
  "kernelspec": {
   "display_name": "base",
   "language": "python",
   "name": "python3"
  },
  "language_info": {
   "codemirror_mode": {
    "name": "ipython",
    "version": 3
   },
   "file_extension": ".py",
   "mimetype": "text/x-python",
   "name": "python",
   "nbconvert_exporter": "python",
   "pygments_lexer": "ipython3",
   "version": "3.11.7"
  },
  "toc-autonumbering": true,
  "vscode": {
   "interpreter": {
    "hash": "47ef90cdf3004d3f859f1fb202523c65c07ba7c22eefd261b181f4744e2d0403"
   }
  }
 },
 "nbformat": 4,
 "nbformat_minor": 4
}
