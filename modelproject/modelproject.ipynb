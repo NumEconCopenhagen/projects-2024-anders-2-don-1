{
 "cells": [
  {
   "cell_type": "markdown",
   "metadata": {},
   "source": [
    "# YOUR PROJECT TITLE"
   ]
  },
  {
   "attachments": {},
   "cell_type": "markdown",
   "metadata": {},
   "source": [
    "> **Note the following:** \n",
    "> 1. This is *not* meant to be an example of an actual **model analysis project**, just an example of how to structure such a project.\n",
    "> 1. Remember the general advice on structuring and commenting your code\n",
    "> 1. The `modelproject.py` file includes a function which could be used multiple times in this notebook."
   ]
  },
  {
   "cell_type": "markdown",
   "metadata": {},
   "source": [
    "Imports and set magics:"
   ]
  },
  {
   "cell_type": "code",
   "execution_count": 2,
   "metadata": {},
   "outputs": [],
   "source": [
    "import numpy as np\n",
    "from scipy import optimize\n",
    "import scipy.optimize as opt\n",
    "import sympy as sm\n",
    "import matplotlib.pyplot as plt\n",
    "from ipywidgets import interact, FloatSlider"
   ]
  },
  {
   "cell_type": "markdown",
   "metadata": {},
   "source": [
    "# Model description"
   ]
  },
  {
   "cell_type": "markdown",
   "metadata": {},
   "source": [
    "\n",
    "**1) The Fischer Equation**:\n",
    "\n",
    "$$\n",
    "r = i-\\pi^{e}_{+1}\n",
    "$$\n",
    "\n",
    "**2) The general market equilibrium (GME)**\n",
    "\n",
    "$$\n",
    "y-\\bar{y} = \\alpha_1 (g-\\bar{g}) - \\alpha_2(r-\\bar{r})\n",
    "$$\n",
    "\n",
    "**3) The Taylor Rule**\n",
    "\n",
    "$$\n",
    "i = \\bar{r} + \\pi^{e}_{+1} + h(\\pi - \\pi^*) + b(y- \\bar{y})\n",
    "$$\n",
    "\n",
    "**4) The SRAS curve** which is derived from the Expectations-Augmented Phillips Curve\n",
    "\n",
    "$$\n",
    "\\pi = \\pi^e + \\gamma (y-\\bar{y}) + s\n",
    "$$\n",
    "\n",
    "\n",
    "**5) Assuming static, backwards-looking inflation expectations in the economy**\n",
    "\n",
    "$$\n",
    "\\pi^e = \\pi_{-1}\n",
    "$$\n"
   ]
  },
  {
   "cell_type": "markdown",
   "metadata": {},
   "source": [
    "## Analytical solution"
   ]
  },
  {
   "cell_type": "markdown",
   "metadata": {},
   "source": [
    "If your model allows for an analytical solution, you should provide here.\n",
    "\n",
    "You may use Sympy for this. Then you can characterize the solution as a function of a parameter of the model.\n",
    "\n",
    "To characterize the solution, first derive a steady state equation as a function of a parameter using Sympy.solve and then turn it into a python function by Sympy.lambdify. See the lecture notes for details. "
   ]
  },
  {
   "cell_type": "code",
   "execution_count": 22,
   "metadata": {},
   "outputs": [],
   "source": [
    "#Defining all symbols\n",
    "real_int = sm.symbols('r')\n",
    "structural_real_int = sm.symbols(r'\\overline{r}')\n",
    "nominal_int = sm.symbols('i')\n",
    "outputgab = sm.symbols(r'(y-\\overline{y})')\n",
    "structural_output = sm.symbols(r'(\\overline{y})')\n",
    "output = sm.symbols('y')\n",
    "alpha_1 = sm.symbols('alpha_1')\n",
    "alpha_2 = sm.symbols('alpha_2')\n",
    "gov = sm.symbols('g')\n",
    "structural_gov = sm.symbols(r'\\overline{g}')\n",
    "h = sm.symbols('h')\n",
    "b = sm.symbols('b')\n",
    "inflation = sm.symbols('\\pi')\n",
    "exp_inf_t_plus_one = sm.symbols('\\pi_{t+1}^e')\n",
    "inf_t_minus_one = sm.symbols('\\pi_{t-1}')\n",
    "inflation_target = sm.symbols('\\pi^*')\n",
    "gamma = sm.symbols('\\gamma')\n",
    "s = sm.symbols('s')\n",
    "\n",
    "\n",
    "#Setting the symbols to be read as unicode\n",
    "sm.init_printing(use_unicode=True)\n",
    "\n",
    "\n",
    "\n",
    "\n",
    "\n"
   ]
  },
  {
   "cell_type": "code",
   "execution_count": 23,
   "metadata": {},
   "outputs": [
    {
     "data": {
      "text/plain": [
       "<matplotlib.collections.PathCollection at 0x1d2a52f7e10>"
      ]
     },
     "execution_count": 23,
     "metadata": {},
     "output_type": "execute_result"
    },
    {
     "data": {
      "image/png": "[encoded data removed]",
      "text/plain": [
       "<Figure size 640x480 with 1 Axes>"
      ]
     },
     "metadata": {},
     "output_type": "display_data"
    }
   ],
   "source": [
    "#Using the Taylor, Fischer and GME to solve for the AD curve.\n",
    "taylor = structural_real_int+exp_inf_t_plus_one+h*(inflation-inflation_target)+b*(outputgab)\n",
    "fischer = taylor - exp_inf_t_plus_one\n",
    "outputgab_solve = sm.Eq(outputgab,alpha_1*(gov-structural_gov)-alpha_2*(fischer-structural_real_int))\n",
    "\n",
    "\n",
    "AD = sm.solve(outputgab_solve,outputgab)[0]+structural_output\n",
    "\n",
    "#Defining the AS-curve\n",
    "AS = inf_t_minus_one+gamma*(outputgab)+s\n",
    "\n",
    "\n",
    "# Lambdify the AD curve\n",
    "\n",
    "AD_function = sm.lambdify((structural_output,structural_gov,alpha_1, alpha_2, inflation, inflation_target, h, b, gov),AD)\n",
    "\n",
    "inflation_values = np.linspace(0,10,10000)\n",
    "\n",
    " \n",
    "\n",
    "output_values = []\n",
    "for inflation in inflation_values:\n",
    "    #Assumptions\n",
    "    y_bar,g_bar,alpha1, alpha2, pi_target, H, B, g = 2, 2, 1.2, 0.9, 2, 1.5, 0.5, 2\n",
    "    y = AD_function(y_bar,g_bar,alpha1, alpha2, inflation,pi_target, H, B, g)\n",
    "    output_values.append(y)\n",
    "\n",
    "plt.scatter(output_values,inflation_values, s=1, color='blue')"
   ]
  },
  {
   "cell_type": "markdown",
   "metadata": {},
   "source": [
    "## Numerical solution"
   ]
  },
  {
   "cell_type": "markdown",
   "metadata": {},
   "source": [
    "You can always solve a model numerically. \n",
    "\n",
    "Define first the set of parameters you need. \n",
    "\n",
    "Then choose one of the optimization algorithms that we have gone through in the lectures based on what you think is most fitting for your model.\n",
    "\n",
    "Are there any problems with convergence? Does the model converge for all starting values? Make a lot of testing to figure these things out. "
   ]
  },
  {
   "cell_type": "markdown",
   "metadata": {},
   "source": [
    "# Further analysis"
   ]
  },
  {
   "cell_type": "markdown",
   "metadata": {},
   "source": [
    "Make detailed vizualizations of how your model changes with parameter values. \n",
    "\n",
    "Try to make an extension of the model. "
   ]
  },
  {
   "cell_type": "markdown",
   "metadata": {},
   "source": [
    "# Conclusion"
   ]
  },
  {
   "cell_type": "markdown",
   "metadata": {},
   "source": [
    "Add concise conclusion. "
   ]
  }
 ],
 "metadata": {
  "kernelspec": {
   "display_name": "base",
   "language": "python",
   "name": "python3"
  },
  "language_info": {
   "codemirror_mode": {
    "name": "ipython",
    "version": 3
   },
   "file_extension": ".py",
   "mimetype": "text/x-python",
   "name": "python",
   "nbconvert_exporter": "python",
   "pygments_lexer": "ipython3",
   "version": "3.11.7"
  },
  "toc-autonumbering": true,
  "vscode": {
   "interpreter": {
    "hash": "47ef90cdf3004d3f859f1fb202523c65c07ba7c22eefd261b181f4744e2d0403"
   }
  }
 },
 "nbformat": 4,
 "nbformat_minor": 4
}
