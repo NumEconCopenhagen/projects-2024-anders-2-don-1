{
 "cells": [
  {
   "cell_type": "markdown",
   "metadata": {},
   "source": [
    "# YOUR PROJECT TITLE"
   ]
  },
  {
   "attachments": {},
   "cell_type": "markdown",
   "metadata": {},
   "source": [
    "> **Note the following:** \n",
    "> 1. This is *not* meant to be an example of an actual **data analysis project**, just an example of how to structure such a project.\n",
    "> 1. Remember the general advice on structuring and commenting your code\n",
    "> 1. The `dataproject.py` file includes a function which can be used multiple times in this notebook."
   ]
  },
  {
   "cell_type": "markdown",
   "metadata": {},
   "source": [
    "Imports and set magics:"
   ]
  },
  {
   "cell_type": "code",
   "execution_count": 2,
   "metadata": {},
   "outputs": [
    {
     "ename": "ModuleNotFoundError",
     "evalue": "No module named 'matplotlib_venn'",
     "output_type": "error",
     "traceback": [
      "\u001b[1;31m---------------------------------------------------------------------------\u001b[0m",
      "\u001b[1;31mModuleNotFoundError\u001b[0m                       Traceback (most recent call last)",
      "Cell \u001b[1;32mIn[2], line 5\u001b[0m\n\u001b[0;32m      3\u001b[0m \u001b[38;5;28;01mimport\u001b[39;00m \u001b[38;5;21;01mmatplotlib\u001b[39;00m\u001b[38;5;21;01m.\u001b[39;00m\u001b[38;5;21;01mpyplot\u001b[39;00m \u001b[38;5;28;01mas\u001b[39;00m \u001b[38;5;21;01mplt\u001b[39;00m\n\u001b[0;32m      4\u001b[0m \u001b[38;5;28;01mimport\u001b[39;00m \u001b[38;5;21;01mipywidgets\u001b[39;00m \u001b[38;5;28;01mas\u001b[39;00m \u001b[38;5;21;01mwidgets\u001b[39;00m\n\u001b[1;32m----> 5\u001b[0m \u001b[38;5;28;01mfrom\u001b[39;00m \u001b[38;5;21;01mmatplotlib_venn\u001b[39;00m \u001b[38;5;28;01mimport\u001b[39;00m venn2\n\u001b[0;32m      7\u001b[0m \u001b[38;5;66;03m# autoreload modules when code is run\u001b[39;00m\n\u001b[0;32m      8\u001b[0m get_ipython()\u001b[38;5;241m.\u001b[39mrun_line_magic(\u001b[38;5;124m'\u001b[39m\u001b[38;5;124mload_ext\u001b[39m\u001b[38;5;124m'\u001b[39m, \u001b[38;5;124m'\u001b[39m\u001b[38;5;124mautoreload\u001b[39m\u001b[38;5;124m'\u001b[39m)\n",
      "\u001b[1;31mModuleNotFoundError\u001b[0m: No module named 'matplotlib_venn'"
     ]
    }
   ],
   "source": [
    "import pandas as pd\n",
    "import numpy as np\n",
    "import matplotlib.pyplot as plt\n",
    "import ipywidgets as widgets\n",
    "from matplotlib_venn import venn2\n",
    "\n",
    "# autoreload modules when code is run\n",
    "%load_ext autoreload\n",
    "%autoreload 2\n",
    "\n",
    "# user written modules\n",
    "import dataproject\n"
   ]
  },
  {
   "cell_type": "markdown",
   "metadata": {},
   "source": [
    "# Read and clean data"
   ]
  },
  {
   "cell_type": "markdown",
   "metadata": {},
   "source": [
    "Import your data, either through an API or manually, and load it. "
   ]
  },
  {
   "cell_type": "markdown",
   "metadata": {},
   "source": [
    "## Explore each data set"
   ]
  },
  {
   "cell_type": "markdown",
   "metadata": {},
   "source": [
    "In order to be able to **explore the raw data**, you may provide **static** and **interactive plots** to show important developments "
   ]
  },
  {
   "cell_type": "markdown",
   "metadata": {},
   "source": [
    "**Interactive plot** :"
   ]
  },
  {
   "cell_type": "code",
   "execution_count": 3,
   "metadata": {},
   "outputs": [
    {
     "name": "stdout",
     "output_type": "stream",
     "text": [
      "            c25     sp500       dax\n",
      "c25    0.029855  0.014422  0.021489\n",
      "sp500  0.014422  0.036935  0.021911\n",
      "dax    0.021489  0.021911  0.036753\n"
     ]
    }
   ],
   "source": [
    "import pandas as pd\n",
    "import numpy as np \n",
    "import matplotlib.pyplot as plt\n",
    "\n",
    "risk_free_rate_annualized = 0.02\n",
    "\n",
    "df = pd.read_csv('stock data.csv', sep=';', decimal=',',thousands='.')\n",
    "df['Date'] = pd.to_datetime(df['Date'], format='%d-%m-%Y')\n",
    "df = df.sort_values(by='Date')\n",
    "df.set_index('Date', inplace=True)\n",
    "\n",
    "#Daily returns\n",
    "\n",
    "df = df.pct_change()\n",
    "\n",
    "#annualization \n",
    "period = ((df.index.max() - df.index.min()).days)/365.25\n",
    "total_trading_days = df.shape[0]\n",
    "trading_days_pr_year = total_trading_days/period\n",
    "\n",
    "\n",
    "\n",
    "#mean values\n",
    "mean_c25_annualized = (1+df['c25'].mean())**trading_days_pr_year -1\n",
    "mean_sp500_annualized = (1+df['sp500'].mean())**trading_days_pr_year -1\n",
    "mean_dax_annualized = (1+df['dax'].mean())**trading_days_pr_year -1\n",
    "\n",
    "return_vector = np.array([mean_c25_annualized, mean_sp500_annualized, mean_dax_annualized])\n",
    "\n",
    "\n",
    "\n",
    "#covariance matrix\n",
    "covariance_matrix = df.cov()*trading_days_pr_year\n",
    "\n",
    "print(covariance_matrix)\n",
    "\n",
    "#minimum variance portfolio \n",
    "\n",
    "#Calculating z-matrix\n",
    "\n",
    "covariance_matrix_inverted = np.linalg.inv(covariance_matrix)\n",
    "one_vector = np.ones((len(covariance_matrix),1))\n",
    "z_vector_minvar = covariance_matrix_inverted.dot(one_vector)\n",
    "\n",
    "\n",
    "#calculating weights for minimums variance portfolio\n",
    "x_vector_minvar = (1/np.sum(z_vector_minvar))*z_vector_minvar\n",
    "\n",
    "#expected return for minimum variance portfolio\n",
    "exp_return_minvar = return_vector.dot(x_vector_minvar)\n",
    "\n",
    "#Standard deviation for min variance portfolio\n",
    "variance_minvar = np.transpose(x_vector_minvar).dot(covariance_matrix).dot(x_vector_minvar)\n",
    "\n",
    "std_minvar = np.sqrt(variance_minvar)\n",
    "\n",
    "#Efficient tangent portfolio\n",
    "#Excess return \n",
    "excess_return_vector = return_vector - risk_free_rate_annualized\n",
    "\n",
    "z_vector_efftan = covariance_matrix_inverted.dot(excess_return_vector)\n",
    "\n",
    "#calculating weights for efficient tangent portfolio\n",
    "x_vector_efftan = (1/np.sum(z_vector_efftan))*z_vector_efftan\n",
    "\n",
    "#expected return for efficient tangent portfolio\n",
    "exp_return_efftan = return_vector.dot(x_vector_efftan)\n",
    "\n",
    "#Standard deviation for efficient tangent portfolio\n",
    "variance_efftan = np.transpose(x_vector_efftan).dot(covariance_matrix).dot(x_vector_efftan)\n",
    "std_efftan = np.sqrt(variance_efftan)\n",
    "\n",
    "\n",
    "x_vector_minvar = np.transpose(x_vector_minvar)\n",
    "\n",
    "\n",
    "\n"
   ]
  },
  {
   "cell_type": "markdown",
   "metadata": {},
   "source": [
    "**Using the two mutual fund theorem we will create the efficient frontier**"
   ]
  },
  {
   "cell_type": "code",
   "execution_count": 6,
   "metadata": {},
   "outputs": [
    {
     "name": "stdout",
     "output_type": "stream",
     "text": [
      "[array([0.4732623]), array([0.47193848]), array([0.47061466]), array([0.46929085]), array([0.46796703]), array([0.46664321]), array([0.4653194]), array([0.46399558]), array([0.46267176]), array([0.46134795]), array([0.46002413]), array([0.45870031]), array([0.4573765]), array([0.45605268]), array([0.45472886]), array([0.45340505]), array([0.45208123]), array([0.45075741]), array([0.4494336]), array([0.44810978]), array([0.44678596]), array([0.44546215]), array([0.44413833]), array([0.44281451]), array([0.4414907]), array([0.44016688]), array([0.43884306]), array([0.43751925]), array([0.43619543]), array([0.43487161]), array([0.4335478]), array([0.43222398]), array([0.43090016]), array([0.42957635]), array([0.42825253]), array([0.42692871]), array([0.4256049]), array([0.42428108]), array([0.42295726]), array([0.42163345]), array([0.42030963]), array([0.41898581]), array([0.41766199]), array([0.41633818]), array([0.41501436]), array([0.41369054]), array([0.41236673]), array([0.41104291]), array([0.40971909]), array([0.40839528]), array([0.40707146]), array([0.40574764]), array([0.40442383]), array([0.40310001]), array([0.40177619]), array([0.40045238]), array([0.39912856]), array([0.39780474]), array([0.39648093]), array([0.39515711]), array([0.39383329]), array([0.39250948]), array([0.39118566]), array([0.38986184]), array([0.38853803]), array([0.38721421]), array([0.38589039]), array([0.38456658]), array([0.38324276]), array([0.38191894]), array([0.38059513]), array([0.37927131]), array([0.37794749]), array([0.37662368]), array([0.37529986]), array([0.37397604]), array([0.37265223]), array([0.37132841]), array([0.37000459]), array([0.36868078]), array([0.36735696]), array([0.36603314]), array([0.36470932]), array([0.36338551]), array([0.36206169]), array([0.36073787]), array([0.35941406]), array([0.35809024]), array([0.35676642]), array([0.35544261]), array([0.35411879]), array([0.35279497]), array([0.35147116]), array([0.35014734]), array([0.34882352]), array([0.34749971]), array([0.34617589]), array([0.34485207]), array([0.34352826]), array([0.34220444]), array([0.34088062]), array([0.33955681]), array([0.33823299]), array([0.33690917]), array([0.33558536]), array([0.33426154]), array([0.33293772]), array([0.33161391]), array([0.33029009]), array([0.32896627]), array([0.32764246]), array([0.32631864]), array([0.32499482]), array([0.32367101]), array([0.32234719]), array([0.32102337]), array([0.31969956]), array([0.31837574]), array([0.31705192]), array([0.31572811]), array([0.31440429]), array([0.31308047]), array([0.31175665]), array([0.31043284]), array([0.30910902]), array([0.3077852]), array([0.30646139]), array([0.30513757]), array([0.30381375]), array([0.30248994]), array([0.30116612]), array([0.2998423]), array([0.29851849]), array([0.29719467]), array([0.29587085]), array([0.29454704]), array([0.29322322]), array([0.2918994]), array([0.29057559]), array([0.28925177]), array([0.28792795]), array([0.28660414]), array([0.28528032]), array([0.2839565]), array([0.28263269]), array([0.28130887]), array([0.27998505]), array([0.27866124]), array([0.27733742]), array([0.2760136]), array([0.27468979]), array([0.27336597]), array([0.27204215]), array([0.27071834]), array([0.26939452]), array([0.2680707]), array([0.26674689]), array([0.26542307]), array([0.26409925]), array([0.26277544]), array([0.26145162]), array([0.2601278]), array([0.25880398]), array([0.25748017]), array([0.25615635]), array([0.25483253]), array([0.25350872]), array([0.2521849]), array([0.25086108]), array([0.24953727]), array([0.24821345]), array([0.24688963]), array([0.24556582]), array([0.244242]), array([0.24291818]), array([0.24159437]), array([0.24027055]), array([0.23894673]), array([0.23762292]), array([0.2362991]), array([0.23497528]), array([0.23365147]), array([0.23232765]), array([0.23100383]), array([0.22968002]), array([0.2283562]), array([0.22703238]), array([0.22570857]), array([0.22438475]), array([0.22306093]), array([0.22173712]), array([0.2204133]), array([0.21908948]), array([0.21776567]), array([0.21644185]), array([0.21511803]), array([0.21379422]), array([0.2124704]), array([0.21114658]), array([0.20982277]), array([0.20849895]), array([0.20717513]), array([0.20585131]), array([0.2045275]), array([0.20320368]), array([0.20187986]), array([0.20055605]), array([0.19923223]), array([0.19790841]), array([0.1965846]), array([0.19526078]), array([0.19393696]), array([0.19261315]), array([0.19128933]), array([0.18996551]), array([0.1886417]), array([0.18731788]), array([0.18599406]), array([0.18467025]), array([0.18334643]), array([0.18202261]), array([0.1806988]), array([0.17937498]), array([0.17805116]), array([0.17672735]), array([0.17540353]), array([0.17407971]), array([0.1727559]), array([0.17143208]), array([0.17010826]), array([0.16878445]), array([0.16746063]), array([0.16613681]), array([0.164813]), array([0.16348918]), array([0.16216536]), array([0.16084155]), array([0.15951773]), array([0.15819391]), array([0.15687009]), array([0.15554628]), array([0.15422246]), array([0.15289864]), array([0.15157483]), array([0.15025101]), array([0.14892719]), array([0.14760338]), array([0.14627956]), array([0.14495574]), array([0.14363193]), array([0.14230811]), array([0.14098429]), array([0.13966048]), array([0.13833666]), array([0.13701284]), array([0.13568903]), array([0.13436521]), array([0.13304139]), array([0.13171758]), array([0.13039376]), array([0.12906994]), array([0.12774613]), array([0.12642231]), array([0.12509849]), array([0.12377468]), array([0.12245086]), array([0.12112704]), array([0.11980323]), array([0.11847941]), array([0.11715559]), array([0.11583178]), array([0.11450796]), array([0.11318414]), array([0.11186033]), array([0.11053651]), array([0.10921269]), array([0.10788888]), array([0.10656506]), array([0.10524124]), array([0.10391742]), array([0.10259361]), array([0.10126979]), array([0.09994597]), array([0.09862216]), array([0.09729834]), array([0.09597452]), array([0.09465071]), array([0.09332689]), array([0.09200307]), array([0.09067926]), array([0.08935544]), array([0.08803162]), array([0.08670781]), array([0.08538399]), array([0.08406017]), array([0.08273636]), array([0.08141254]), array([0.08008872]), array([0.07876491]), array([0.07744109]), array([0.07611727]), array([0.07479346]), array([0.07346964]), array([0.07214582]), array([0.07082201]), array([0.06949819]), array([0.06817437]), array([0.06685056]), array([0.06552674]), array([0.06420292]), array([0.06287911]), array([0.06155529]), array([0.06023147]), array([0.05890766]), array([0.05758384]), array([0.05626002]), array([0.05493621]), array([0.05361239]), array([0.05228857]), array([0.05096475]), array([0.04964094]), array([0.04831712]), array([0.0469933]), array([0.04566949]), array([0.04434567]), array([0.04302185]), array([0.04169804]), array([0.04037422]), array([0.0390504]), array([0.03772659]), array([0.03640277]), array([0.03507895]), array([0.03375514]), array([0.03243132]), array([0.0311075]), array([0.02978369]), array([0.02845987]), array([0.02713605]), array([0.02581224]), array([0.02448842]), array([0.0231646]), array([0.02184079]), array([0.02051697]), array([0.01919315]), array([0.01786934]), array([0.01654552]), array([0.0152217]), array([0.01389789]), array([0.01257407]), array([0.01125025]), array([0.00992644]), array([0.00860262]), array([0.0072788]), array([0.00595499]), array([0.00463117]), array([0.00330735]), array([0.00198354]), array([0.00065972]), array([-0.0006641]), array([-0.00198792]), array([-0.00331173]), array([-0.00463555]), array([-0.00595937]), array([-0.00728318]), array([-0.008607]), array([-0.00993082]), array([-0.01125463]), array([-0.01257845]), array([-0.01390227]), array([-0.01522608]), array([-0.0165499]), array([-0.01787372]), array([-0.01919753]), array([-0.02052135]), array([-0.02184517]), array([-0.02316898]), array([-0.0244928]), array([-0.02581662]), array([-0.02714043]), array([-0.02846425]), array([-0.02978807]), array([-0.03111188]), array([-0.0324357]), array([-0.03375952]), array([-0.03508333]), array([-0.03640715]), array([-0.03773097]), array([-0.03905478]), array([-0.0403786]), array([-0.04170242]), array([-0.04302623]), array([-0.04435005]), array([-0.04567387]), array([-0.04699768]), array([-0.0483215]), array([-0.04964532]), array([-0.05096913]), array([-0.05229295]), array([-0.05361677]), array([-0.05494059]), array([-0.0562644]), array([-0.05758822]), array([-0.05891204]), array([-0.06023585]), array([-0.06155967]), array([-0.06288349]), array([-0.0642073]), array([-0.06553112]), array([-0.06685494]), array([-0.06817875]), array([-0.06950257]), array([-0.07082639]), array([-0.0721502]), array([-0.07347402]), array([-0.07479784]), array([-0.07612165]), array([-0.07744547]), array([-0.07876929]), array([-0.0800931]), array([-0.08141692]), array([-0.08274074]), array([-0.08406455]), array([-0.08538837]), array([-0.08671219]), array([-0.088036]), array([-0.08935982]), array([-0.09068364]), array([-0.09200745]), array([-0.09333127]), array([-0.09465509]), array([-0.0959789]), array([-0.09730272]), array([-0.09862654]), array([-0.09995035]), array([-0.10127417]), array([-0.10259799]), array([-0.1039218]), array([-0.10524562]), array([-0.10656944]), array([-0.10789326]), array([-0.10921707]), array([-0.11054089]), array([-0.11186471]), array([-0.11318852]), array([-0.11451234]), array([-0.11583616]), array([-0.11715997]), array([-0.11848379]), array([-0.11980761]), array([-0.12113142]), array([-0.12245524]), array([-0.12377906]), array([-0.12510287]), array([-0.12642669]), array([-0.12775051]), array([-0.12907432]), array([-0.13039814]), array([-0.13172196]), array([-0.13304577]), array([-0.13436959]), array([-0.13569341]), array([-0.13701722]), array([-0.13834104]), array([-0.13966486]), array([-0.14098867]), array([-0.14231249]), array([-0.14363631]), array([-0.14496012]), array([-0.14628394]), array([-0.14760776]), array([-0.14893157]), array([-0.15025539]), array([-0.15157921]), array([-0.15290302]), array([-0.15422684]), array([-0.15555066]), array([-0.15687448]), array([-0.15819829]), array([-0.15952211]), array([-0.16084593]), array([-0.16216974]), array([-0.16349356]), array([-0.16481738]), array([-0.16614119]), array([-0.16746501]), array([-0.16878883]), array([-0.17011264]), array([-0.17143646]), array([-0.17276028]), array([-0.17408409]), array([-0.17540791]), array([-0.17673173]), array([-0.17805554]), array([-0.17937936]), array([-0.18070318]), array([-0.18202699]), array([-0.18335081]), array([-0.18467463]), array([-0.18599844]), array([-0.18732226])]\n",
      "[array([[1.03027544]]), array([[1.02660425]]), array([[1.02293335]]), array([[1.01926276]]), array([[1.01559247]]), array([[1.01192248]]), array([[1.00825281]]), array([[1.00458345]]), array([[1.00091441]]), array([[0.99724569]]), array([[0.99357729]]), array([[0.98990923]]), array([[0.98624149]]), array([[0.98257409]]), array([[0.97890703]]), array([[0.97524031]]), array([[0.97157394]]), array([[0.96790792]]), array([[0.96424226]]), array([[0.96057695]]), array([[0.95691201]]), array([[0.95324744]]), array([[0.94958323]]), array([[0.94591941]]), array([[0.94225596]]), array([[0.9385929]]), array([[0.93493023]]), array([[0.93126795]]), array([[0.92760607]]), array([[0.9239446]]), array([[0.92028353]]), array([[0.91662288]]), array([[0.91296264]]), array([[0.90930283]]), array([[0.90564344]]), array([[0.90198449]]), array([[0.89832598]]), array([[0.89466791]]), array([[0.89101029]]), array([[0.88735313]]), array([[0.88369642]]), array([[0.88004019]]), array([[0.87638443]]), array([[0.87272914]]), array([[0.86907434]]), array([[0.86542003]]), array([[0.86176621]]), array([[0.8581129]]), array([[0.8544601]]), array([[0.85080782]]), array([[0.84715606]]), array([[0.84350482]]), array([[0.83985413]]), array([[0.83620398]]), array([[0.83255437]]), array([[0.82890533]]), array([[0.82525685]]), array([[0.82160895]]), array([[0.81796162]]), array([[0.81431488]]), array([[0.81066874]]), array([[0.80702321]]), array([[0.80337828]]), array([[0.79973398]]), array([[0.79609031]]), array([[0.79244728]]), array([[0.78880489]]), array([[0.78516316]]), array([[0.78152209]]), array([[0.7778817]]), array([[0.77424199]]), array([[0.77060298]]), array([[0.76696467]]), array([[0.76332707]]), array([[0.7596902]]), array([[0.75605406]]), array([[0.75241866]]), array([[0.74878403]]), array([[0.74515016]]), array([[0.74151706]]), array([[0.73788476]]), array([[0.73425326]]), array([[0.73062257]]), array([[0.72699271]]), array([[0.72336369]]), array([[0.71973551]]), array([[0.7161082]]), array([[0.71248177]]), array([[0.70885623]]), array([[0.70523159]]), array([[0.70160787]]), array([[0.69798508]]), array([[0.69436324]]), array([[0.69074236]]), array([[0.68712246]]), array([[0.68350355]]), array([[0.67988565]]), array([[0.67626877]]), array([[0.67265293]]), array([[0.66903815]]), array([[0.66542445]]), array([[0.66181184]]), array([[0.65820034]]), array([[0.65458997]]), array([[0.65098075]]), array([[0.64737269]]), array([[0.64376583]]), array([[0.64016016]]), array([[0.63655573]]), array([[0.63295254]]), array([[0.62935063]]), array([[0.62575]]), array([[0.62215069]]), array([[0.61855272]]), array([[0.61495611]]), array([[0.61136088]]), array([[0.60776706]]), array([[0.60417468]]), array([[0.60058375]]), array([[0.59699432]]), array([[0.59340639]]), array([[0.58982001]]), array([[0.58623519]]), array([[0.58265198]]), array([[0.57907039]]), array([[0.57549046]]), array([[0.57191222]]), array([[0.5683357]]), array([[0.56476093]]), array([[0.56118795]]), array([[0.5576168]]), array([[0.5540475]]), array([[0.55048009]]), array([[0.54691462]]), array([[0.54335111]]), array([[0.53978961]]), array([[0.53623016]]), array([[0.53267279]]), array([[0.52911756]]), array([[0.5255645]]), array([[0.52201366]]), array([[0.51846508]]), array([[0.51491881]]), array([[0.5113749]]), array([[0.5078334]]), array([[0.50429436]]), array([[0.50075782]]), array([[0.49722385]]), array([[0.49369251]]), array([[0.49016383]]), array([[0.48663789]]), array([[0.48311475]]), array([[0.47959446]]), array([[0.47607709]]), array([[0.4725627]]), array([[0.46905137]]), array([[0.46554316]]), array([[0.46203813]]), array([[0.45853637]]), array([[0.45503795]]), array([[0.45154295]]), array([[0.44805145]]), array([[0.44456353]]), array([[0.44107927]]), array([[0.43759876]]), array([[0.4341221]]), array([[0.43064937]]), array([[0.42718067]]), array([[0.42371611]]), array([[0.42025577]]), array([[0.41679978]]), array([[0.41334823]]), array([[0.40990124]]), array([[0.40645893]]), array([[0.40302141]]), array([[0.39958881]]), array([[0.39616126]]), array([[0.39273889]]), array([[0.38932183]]), array([[0.38591023]]), array([[0.38250423]]), array([[0.37910399]]), array([[0.37570966]]), array([[0.37232139]]), array([[0.36893937]]), array([[0.36556376]]), array([[0.36219474]]), array([[0.35883249]]), array([[0.35547722]]), array([[0.35212912]]), array([[0.34878839]]), array([[0.34545524]]), array([[0.34212991]]), array([[0.33881262]]), array([[0.33550361]]), array([[0.33220313]]), array([[0.32891143]]), array([[0.32562878]]), array([[0.32235545]]), array([[0.31909174]]), array([[0.31583794]]), array([[0.31259436]]), array([[0.30936132]]), array([[0.30613916]]), array([[0.30292822]]), array([[0.29972887]]), array([[0.29654147]]), array([[0.29336643]]), array([[0.29020413]]), array([[0.28705502]]), array([[0.28391951]]), array([[0.28079808]]), array([[0.27769119]]), array([[0.27459934]]), array([[0.27152304]]), array([[0.26846282]]), array([[0.26541925]]), array([[0.2623929]]), array([[0.25938438]]), array([[0.25639431]]), array([[0.25342334]]), array([[0.25047216]]), array([[0.24754147]]), array([[0.24463201]]), array([[0.24174455]]), array([[0.23887988]]), array([[0.23603883]]), array([[0.23322227]]), array([[0.2304311]]), array([[0.22766624]]), array([[0.22492867]]), array([[0.2222194]]), array([[0.21953948]]), array([[0.21688998]]), array([[0.21427205]]), array([[0.21168685]]), array([[0.2091356]]), array([[0.20661955]]), array([[0.20414001]]), array([[0.20169832]]), array([[0.19929587]]), array([[0.1969341]]), array([[0.19461449]]), array([[0.19233857]]), array([[0.1901079]]), array([[0.1879241]]), array([[0.18578882]]), array([[0.18370374]]), array([[0.18167061]]), array([[0.17969118]]), array([[0.17776725]]), array([[0.17590064]]), array([[0.17409318]]), array([[0.17234675]]), array([[0.17066321]]), array([[0.16904445]]), array([[0.16749235]]), array([[0.16600876]]), array([[0.16459556]]), array([[0.16325455]]), array([[0.16198754]]), array([[0.16079628]]), array([[0.15968246]]), array([[0.15864771]]), array([[0.15769359]]), array([[0.15682157]]), array([[0.15603303]]), array([[0.15532923]]), array([[0.15471134]]), array([[0.15418039]]), array([[0.15373728]]), array([[0.15338276]]), array([[0.15311746]]), array([[0.15294184]]), array([[0.15285621]]), array([[0.15286072]]), array([[0.15295536]]), array([[0.15313996]]), array([[0.15341421]]), array([[0.15377761]]), array([[0.15422955]]), array([[0.15476924]]), array([[0.15539576]]), array([[0.15610809]]), array([[0.15690504]]), array([[0.15778533]]), array([[0.15874758]]), array([[0.15979031]]), array([[0.16091195]]), array([[0.16211086]]), array([[0.16338535]]), array([[0.16473366]]), array([[0.16615399]]), array([[0.16764451]]), array([[0.16920336]]), array([[0.17082868]]), array([[0.17251859]]), array([[0.17427121]]), array([[0.17608466]]), array([[0.17795709]]), array([[0.17988666]]), array([[0.18187154]]), array([[0.18390994]]), array([[0.18600011]]), array([[0.18814032]]), array([[0.19032889]]), array([[0.19256415]]), array([[0.19484451]]), array([[0.1971684]]), array([[0.19953431]]), array([[0.20194074]]), array([[0.20438628]]), array([[0.20686954]]), array([[0.20938916]]), array([[0.21194387]]), array([[0.21453239]]), array([[0.21715353]]), array([[0.21980612]]), array([[0.22248903]]), array([[0.22520117]]), array([[0.22794152]]), array([[0.23070905]]), array([[0.2335028]]), array([[0.23632185]]), array([[0.2391653]]), array([[0.24203228]]), array([[0.24492198]]), array([[0.2478336]]), array([[0.25076637]]), array([[0.25371956]]), array([[0.25669247]]), array([[0.25968441]]), array([[0.26269475]]), array([[0.26572284]]), array([[0.26876811]]), array([[0.27182995]]), array([[0.27490783]]), array([[0.27800121]]), array([[0.28110957]]), array([[0.28423244]]), array([[0.28736932]]), array([[0.29051978]]), array([[0.29368336]]), array([[0.29685966]]), array([[0.30004827]]), array([[0.3032488]]), array([[0.30646088]]), array([[0.30968414]]), array([[0.31291825]]), array([[0.31616287]]), array([[0.31941767]]), array([[0.32268236]]), array([[0.32595663]]), array([[0.3292402]]), array([[0.33253279]]), array([[0.33583414]]), array([[0.33914399]]), array([[0.34246209]]), array([[0.34578821]]), array([[0.34912212]]), array([[0.3524636]]), array([[0.35581243]]), array([[0.35916841]]), array([[0.36253134]]), array([[0.36590103]]), array([[0.36927729]]), array([[0.37265994]]), array([[0.37604882]]), array([[0.37944375]]), array([[0.38284458]]), array([[0.38625114]]), array([[0.38966329]]), array([[0.39308089]]), array([[0.39650379]]), array([[0.39993185]]), array([[0.40336494]]), array([[0.40680295]]), array([[0.41024573]]), array([[0.41369318]]), array([[0.41714518]]), array([[0.42060161]]), array([[0.42406237]]), array([[0.42752736]]), array([[0.43099646]]), array([[0.43446959]]), array([[0.43794664]]), array([[0.44142753]]), array([[0.44491216]]), array([[0.44840044]]), array([[0.4518923]]), array([[0.45538764]]), array([[0.4588864]]), array([[0.46238849]]), array([[0.46589383]]), array([[0.46940236]]), array([[0.47291401]]), array([[0.47642869]]), array([[0.47994636]]), array([[0.48346694]]), array([[0.48699036]]), array([[0.49051658]]), array([[0.49404552]]), array([[0.49757713]]), array([[0.50111136]]), array([[0.50464815]]), array([[0.50818744]]), array([[0.51172918]]), array([[0.51527333]]), array([[0.51881983]]), array([[0.52236864]]), array([[0.52591971]]), array([[0.52947299]]), array([[0.53302843]]), array([[0.53658601]]), array([[0.54014567]]), array([[0.54370737]]), array([[0.54727108]]), array([[0.55083675]]), array([[0.55440434]]), array([[0.55797383]]), array([[0.56154517]]), array([[0.56511833]]), array([[0.56869327]]), array([[0.57226996]]), array([[0.57584837]]), array([[0.57942847]]), array([[0.58301023]]), array([[0.5865936]]), array([[0.59017858]]), array([[0.59376511]]), array([[0.59735319]]), array([[0.60094278]]), array([[0.60453385]]), array([[0.60812638]]), array([[0.61172034]]), array([[0.61531571]]), array([[0.61891246]]), array([[0.62251057]]), array([[0.62611001]]), array([[0.62971076]]), array([[0.63331281]]), array([[0.63691612]]), array([[0.64052068]]), array([[0.64412646]]), array([[0.64773345]]), array([[0.65134162]]), array([[0.65495096]]), array([[0.65856144]]), array([[0.66217305]]), array([[0.66578577]]), array([[0.66939958]]), array([[0.67301447]]), array([[0.67663041]]), array([[0.68024739]]), array([[0.68386539]]), array([[0.6874844]]), array([[0.6911044]]), array([[0.69472538]]), array([[0.69834732]]), array([[0.7019702]]), array([[0.70559401]]), array([[0.70921874]]), array([[0.71284437]]), array([[0.7164709]]), array([[0.72009829]]), array([[0.72372655]]), array([[0.72735566]]), array([[0.73098561]]), array([[0.73461637]]), array([[0.73824796]]), array([[0.74188034]]), array([[0.74551351]]), array([[0.74914746]]), array([[0.75278217]]), array([[0.75641764]]), array([[0.76005385]]), array([[0.7636908]]), array([[0.76732846]]), array([[0.77096685]]), array([[0.77460593]]), array([[0.77824571]]), array([[0.78188617]]), array([[0.7855273]]), array([[0.7891691]]), array([[0.79281155]]), array([[0.79645465]]), array([[0.80009838]]), array([[0.80374275]]), array([[0.80738773]]), array([[0.81103333]]), array([[0.81467953]]), array([[0.81832633]]), array([[0.82197371]]), array([[0.82562167]]), array([[0.82927021]]), array([[0.83291931]]), array([[0.83656897]]), array([[0.84021917]]), array([[0.84386992]]), array([[0.84752121]])]\n"
     ]
    },
    {
     "data": {
      "text/plain": [
       "<matplotlib.collections.PathCollection at 0x226a3bb5e90>"
      ]
     },
     "execution_count": 6,
     "metadata": {},
     "output_type": "execute_result"
    },
    {
     "data": {
      "image/png": "[encoded data removed]",
      "text/plain": [
       "<Figure size 640x480 with 1 Axes>"
      ]
     },
     "metadata": {},
     "output_type": "display_data"
    }
   ],
   "source": [
    "Two_mutual_fund_range = np.linspace(-10,10,500)\n",
    "return_list = []\n",
    "volatility_list = []\n",
    "\n",
    "for weight in Two_mutual_fund_range:\n",
    "    minvar_weight = weight\n",
    "    efftan_weight = 1 - minvar_weight\n",
    "    portfolio_weight = minvar_weight*x_vector_minvar + efftan_weight*x_vector_efftan\n",
    "    exp_return = portfolio_weight.dot(np.transpose(return_vector))\n",
    "    var = portfolio_weight.dot(covariance_matrix).dot(np.transpose(portfolio_weight))\n",
    "    std = np.sqrt(var)\n",
    "    return_list.append(exp_return)\n",
    "    volatility_list.append(std)\n",
    "\n",
    "print(return_list)\n",
    "print(volatility_list)\n",
    "\n",
    "plt.scatter(volatility_list, return_list)\n",
    "\n"
   ]
  },
  {
   "cell_type": "markdown",
   "metadata": {},
   "source": [
    "Explain what you see when moving elements of the interactive plot around. "
   ]
  },
  {
   "cell_type": "markdown",
   "metadata": {},
   "source": [
    "# Merge data sets"
   ]
  },
  {
   "cell_type": "markdown",
   "metadata": {},
   "source": [
    "Now you create combinations of your loaded data sets. Remember the illustration of a (inner) **merge**:"
   ]
  },
  {
   "cell_type": "code",
   "execution_count": 3,
   "metadata": {},
   "outputs": [
    {
     "data": {
      "image/png": "[encoded data removed]",
      "text/plain": [
       "<Figure size 1080x504 with 1 Axes>"
      ]
     },
     "metadata": {},
     "output_type": "display_data"
    }
   ],
   "source": [
    "plt.figure(figsize=(15,7))\n",
    "v = venn2(subsets = (4, 4, 10), set_labels = ('Data X', 'Data Y'))\n",
    "v.get_label_by_id('100').set_text('dropped')\n",
    "v.get_label_by_id('010').set_text('dropped' )\n",
    "v.get_label_by_id('110').set_text('included')\n",
    "plt.show()"
   ]
  },
  {
   "cell_type": "markdown",
   "metadata": {},
   "source": [
    "Here we are dropping elements from both data set X and data set Y. A left join would keep all observations in data X intact and subset only from Y. \n",
    "\n",
    "Make sure that your resulting data sets have the correct number of rows and columns. That is, be clear about which observations are thrown away. \n",
    "\n",
    "**Note:** Don't make Venn diagrams in your own data project. It is just for exposition. "
   ]
  },
  {
   "cell_type": "markdown",
   "metadata": {},
   "source": [
    "# Analysis"
   ]
  },
  {
   "cell_type": "markdown",
   "metadata": {},
   "source": [
    "To get a quick overview of the data, we show some **summary statistics** on a meaningful aggregation. "
   ]
  },
  {
   "cell_type": "markdown",
   "metadata": {},
   "source": [
    "MAKE FURTHER ANALYSIS. EXPLAIN THE CODE BRIEFLY AND SUMMARIZE THE RESULTS."
   ]
  },
  {
   "cell_type": "markdown",
   "metadata": {},
   "source": [
    "# Conclusion"
   ]
  },
  {
   "cell_type": "markdown",
   "metadata": {},
   "source": [
    "ADD CONCISE CONLUSION."
   ]
  }
 ],
 "metadata": {
  "kernelspec": {
   "display_name": "base",
   "language": "python",
   "name": "python3"
  },
  "language_info": {
   "codemirror_mode": {
    "name": "ipython",
    "version": 3
   },
   "file_extension": ".py",
   "mimetype": "text/x-python",
   "name": "python",
   "nbconvert_exporter": "python",
   "pygments_lexer": "ipython3",
   "version": "3.11.7"
  },
  "toc-autonumbering": true,
  "vscode": {
   "interpreter": {
    "hash": "47ef90cdf3004d3f859f1fb202523c65c07ba7c22eefd261b181f4744e2d0403"
   }
  }
 },
 "nbformat": 4,
 "nbformat_minor": 4
}
