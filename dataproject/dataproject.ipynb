{
 "cells": [
  {
   "cell_type": "markdown",
   "metadata": {},
   "source": [
    "# YOUR PROJECT TITLE"
   ]
  },
  {
   "attachments": {},
   "cell_type": "markdown",
   "metadata": {},
   "source": [
    "> **Note the following:** \n",
    "> 1. This is *not* meant to be an example of an actual **data analysis project**, just an example of how to structure such a project.\n",
    "> 1. Remember the general advice on structuring and commenting your code\n",
    "> 1. The `dataproject.py` file includes a function which can be used multiple times in this notebook."
   ]
  },
  {
   "cell_type": "markdown",
   "metadata": {},
   "source": [
    "Imports and set magics:"
   ]
  },
  {
   "cell_type": "code",
   "execution_count": 1,
   "metadata": {},
   "outputs": [],
   "source": [
    "import pandas as pd\n",
    "import numpy as np\n",
    "import matplotlib.pyplot as plt\n",
    "import ipywidgets as widgets\n",
    "from matplotlib_venn import venn2\n",
    "\n",
    "# autoreload modules when code is run\n",
    "%load_ext autoreload\n",
    "%autoreload 2\n",
    "\n",
    "# user written modules\n",
    "import dataproject\n"
   ]
  },
  {
   "cell_type": "markdown",
   "metadata": {},
   "source": [
    "# Read and clean data"
   ]
  },
  {
   "cell_type": "markdown",
   "metadata": {},
   "source": [
    "Import your data, either through an API or manually, and load it. "
   ]
  },
  {
   "cell_type": "markdown",
   "metadata": {},
   "source": [
    "## Explore each data set"
   ]
  },
  {
   "cell_type": "markdown",
   "metadata": {},
   "source": [
    "In order to be able to **explore the raw data**, you may provide **static** and **interactive plots** to show important developments "
   ]
  },
  {
   "cell_type": "markdown",
   "metadata": {},
   "source": [
    "**Interactive plot** :"
   ]
  },
  {
   "cell_type": "code",
   "execution_count": 59,
   "metadata": {},
   "outputs": [
    {
     "name": "stdout",
     "output_type": "stream",
     "text": [
      "            c25     sp500       dax\n",
      "c25    0.029855  0.014422  0.021489\n",
      "sp500  0.014422  0.036935  0.021911\n",
      "dax    0.021489  0.021911  0.036753\n"
     ]
    }
   ],
   "source": [
    "import pandas as pd\n",
    "import numpy as np \n",
    "import matplotlib.pyplot as plt\n",
    "\n",
    "risk_free_rate_annualized = 0.02\n",
    "\n",
    "df = pd.read_csv('stock data.csv', sep=';', decimal=',',thousands='.')\n",
    "df['Date'] = pd.to_datetime(df['Date'], format='%d-%m-%Y')\n",
    "df = df.sort_values(by='Date')\n",
    "df.set_index('Date', inplace=True)\n",
    "\n",
    "#Daily returns\n",
    "\n",
    "df = df.pct_change()\n",
    "\n",
    "#annualization \n",
    "period = ((df.index.max() - df.index.min()).days)/365.25\n",
    "total_trading_days = df.shape[0]\n",
    "trading_days_pr_year = total_trading_days/period\n",
    "\n",
    "\n",
    "\n",
    "#mean values\n",
    "mean_c25_annualized = (1+df['c25'].mean())**trading_days_pr_year -1\n",
    "mean_sp500_annualized = (1+df['sp500'].mean())**trading_days_pr_year -1\n",
    "mean_dax_annualized = (1+df['dax'].mean())**trading_days_pr_year -1\n",
    "\n",
    "return_vector = np.array([mean_c25_annualized, mean_sp500_annualized, mean_dax_annualized])\n",
    "\n",
    "\n",
    "\n",
    "#covariance matrix\n",
    "covariance_matrix = df.cov()*trading_days_pr_year\n",
    "\n",
    "print(covariance_matrix)\n",
    "\n",
    "#minimum variance portfolio \n",
    "\n",
    "#Calculating z-matrix\n",
    "\n",
    "covariance_matrix_inverted = np.linalg.inv(covariance_matrix)\n",
    "one_vector = np.ones((len(covariance_matrix),1))\n",
    "z_vector_minvar = covariance_matrix_inverted.dot(one_vector)\n",
    "\n",
    "\n",
    "#calculating weights for minimums variance portfolio\n",
    "x_vector_minvar = (1/np.sum(z_vector_minvar))*z_vector_minvar\n",
    "\n",
    "#expected return for minimum variance portfolio\n",
    "exp_return_minvar = return_vector.dot(x_vector_minvar)\n",
    "\n",
    "#Standard deviation for min variance portfolio\n",
    "variance_minvar = np.transpose(x_vector_minvar).dot(covariance_matrix).dot(x_vector_minvar)\n",
    "\n",
    "std_minvar = np.sqrt(variance_minvar)\n",
    "\n",
    "#Efficient tangent portfolio\n",
    "#Excess return \n",
    "excess_return_vector = return_vector - risk_free_rate_annualized\n",
    "\n",
    "z_vector_efftan = covariance_matrix_inverted.dot(excess_return_vector)\n",
    "\n",
    "#calculating weights for efficient tangent portfolio\n",
    "x_vector_efftan = (1/np.sum(z_vector_efftan))*z_vector_efftan\n",
    "\n",
    "#expected return for efficient tangent portfolio\n",
    "exp_return_efftan = return_vector.dot(x_vector_efftan)\n",
    "\n",
    "#Standard deviation for efficient tangent portfolio\n",
    "variance_efftan = np.transpose(x_vector_efftan).dot(covariance_matrix).dot(x_vector_efftan)\n",
    "std_efftan = np.sqrt(variance_efftan)\n",
    "\n",
    "\n",
    "x_vector_minvar = np.transpose(x_vector_minvar)\n",
    "\n",
    "\n",
    "\n"
   ]
  },
  {
   "cell_type": "markdown",
   "metadata": {},
   "source": [
    "**Using the two mutual fund theorem we will create the efficient frontier**"
   ]
  },
  {
   "cell_type": "code",
   "execution_count": 64,
   "metadata": {},
   "outputs": [
    {
     "name": "stdout",
     "output_type": "stream",
     "text": [
      "[array([0.4732623]), array([0.45978098]), array([0.44629966]), array([0.43281835]), array([0.41933703]), array([0.40585571]), array([0.39237439]), array([0.37889308]), array([0.36541176]), array([0.35193044]), array([0.33844912]), array([0.32496781]), array([0.31148649]), array([0.29800517]), array([0.28452385]), array([0.27104254]), array([0.25756122]), array([0.2440799]), array([0.23059858]), array([0.21711727]), array([0.20363595]), array([0.19015463]), array([0.17667331]), array([0.163192]), array([0.14971068]), array([0.13622936]), array([0.12274804]), array([0.10926673]), array([0.09578541]), array([0.08230409]), array([0.06882277]), array([0.05534146]), array([0.04186014]), array([0.02837882]), array([0.0148975]), array([0.00141619]), array([-0.01206513]), array([-0.02554645]), array([-0.03902777]), array([-0.05250909]), array([-0.0659904]), array([-0.07947172]), array([-0.09295304]), array([-0.10643436]), array([-0.11991567]), array([-0.13339699]), array([-0.14687831]), array([-0.16035963]), array([-0.17384094]), array([-0.18732226])]\n",
      "[array([[1.03027544]]), array([[0.99290354]]), array([[0.9555658]]), array([[0.91826638]]), array([[0.88101016]]), array([[0.84380286]]), array([[0.80665125]]), array([[0.76956339]]), array([[0.73254896]]), array([[0.69561969]]), array([[0.6587899]]), array([[0.62207725]]), array([[0.58550379]]), array([[0.54909733]]), array([[0.51289343]]), array([[0.47693821]]), array([[0.44129248]]), array([[0.40603775]]), array([[0.37128541]]), array([[0.33719084]]), array([[0.30397544]]), array([[0.27196154]]), array([[0.24162717]]), array([[0.21368881]]), array([[0.1892108]]), array([[0.16969723]]), array([[0.15701011]]), array([[0.15285877]]), array([[0.15791781]]), array([[0.17137348]]), array([[0.19146359]]), array([[0.21634775]]), array([[0.24456695]]), array([[0.27509678]]), array([[0.30724923]]), array([[0.34056503]]), array([[0.37473404]]), array([[0.40954274]]), array([[0.444841]]), array([[0.48052095]]), array([[0.51650349]]), array([[0.55272952]]), array([[0.58915414]]), array([[0.62574266]]), array([[0.66246793]]), array([[0.6993084]]), array([[0.73624678]]), array([[0.77326904]]), array([[0.81036369]]), array([[0.84752121]])]\n"
     ]
    },
    {
     "data": {
      "text/plain": [
       "<matplotlib.collections.PathCollection at 0x1babe207490>"
      ]
     },
     "execution_count": 64,
     "metadata": {},
     "output_type": "execute_result"
    },
    {
     "data": {
      "image/png": "[encoded data removed]",
      "text/plain": [
       "<Figure size 640x480 with 1 Axes>"
      ]
     },
     "metadata": {},
     "output_type": "display_data"
    }
   ],
   "source": [
    "Two_mutual_fund_range = np.linspace(-10,10)\n",
    "return_list = []\n",
    "volatility_list = []\n",
    "\n",
    "for weight in Two_mutual_fund_range:\n",
    "    minvar_weight = weight\n",
    "    efftan_weight = 1 - minvar_weight\n",
    "    portfolio_weight = minvar_weight*x_vector_minvar + efftan_weight*x_vector_efftan\n",
    "    exp_return = portfolio_weight.dot(np.transpose(return_vector))\n",
    "    var = portfolio_weight.dot(covariance_matrix).dot(np.transpose(portfolio_weight))\n",
    "    std = np.sqrt(var)\n",
    "    return_list.append(exp_return)\n",
    "    volatility_list.append(std)\n",
    "\n",
    "print(return_list)\n",
    "print(volatility_list)\n",
    "\n",
    "plt.scatter(volatility_list, return_list)\n",
    "\n"
   ]
  },
  {
   "cell_type": "markdown",
   "metadata": {},
   "source": [
    "Explain what you see when moving elements of the interactive plot around. "
   ]
  },
  {
   "cell_type": "markdown",
   "metadata": {},
   "source": [
    "# Merge data sets"
   ]
  },
  {
   "cell_type": "markdown",
   "metadata": {},
   "source": [
    "Now you create combinations of your loaded data sets. Remember the illustration of a (inner) **merge**:"
   ]
  },
  {
   "cell_type": "code",
   "execution_count": 3,
   "metadata": {},
   "outputs": [
    {
     "data": {
      "image/png": "[encoded data removed]",
      "text/plain": [
       "<Figure size 1080x504 with 1 Axes>"
      ]
     },
     "metadata": {},
     "output_type": "display_data"
    }
   ],
   "source": [
    "plt.figure(figsize=(15,7))\n",
    "v = venn2(subsets = (4, 4, 10), set_labels = ('Data X', 'Data Y'))\n",
    "v.get_label_by_id('100').set_text('dropped')\n",
    "v.get_label_by_id('010').set_text('dropped' )\n",
    "v.get_label_by_id('110').set_text('included')\n",
    "plt.show()"
   ]
  },
  {
   "cell_type": "markdown",
   "metadata": {},
   "source": [
    "Here we are dropping elements from both data set X and data set Y. A left join would keep all observations in data X intact and subset only from Y. \n",
    "\n",
    "Make sure that your resulting data sets have the correct number of rows and columns. That is, be clear about which observations are thrown away. \n",
    "\n",
    "**Note:** Don't make Venn diagrams in your own data project. It is just for exposition. "
   ]
  },
  {
   "cell_type": "markdown",
   "metadata": {},
   "source": [
    "# Analysis"
   ]
  },
  {
   "cell_type": "markdown",
   "metadata": {},
   "source": [
    "To get a quick overview of the data, we show some **summary statistics** on a meaningful aggregation. "
   ]
  },
  {
   "cell_type": "markdown",
   "metadata": {},
   "source": [
    "MAKE FURTHER ANALYSIS. EXPLAIN THE CODE BRIEFLY AND SUMMARIZE THE RESULTS."
   ]
  },
  {
   "cell_type": "markdown",
   "metadata": {},
   "source": [
    "# Conclusion"
   ]
  },
  {
   "cell_type": "markdown",
   "metadata": {},
   "source": [
    "ADD CONCISE CONLUSION."
   ]
  }
 ],
 "metadata": {
  "kernelspec": {
   "display_name": "base",
   "language": "python",
   "name": "python3"
  },
  "language_info": {
   "codemirror_mode": {
    "name": "ipython",
    "version": 3
   },
   "file_extension": ".py",
   "mimetype": "text/x-python",
   "name": "python",
   "nbconvert_exporter": "python",
   "pygments_lexer": "ipython3",
   "version": "3.11.7"
  },
  "toc-autonumbering": true,
  "vscode": {
   "interpreter": {
    "hash": "47ef90cdf3004d3f859f1fb202523c65c07ba7c22eefd261b181f4744e2d0403"
   }
  }
 },
 "nbformat": 4,
 "nbformat_minor": 4
}
